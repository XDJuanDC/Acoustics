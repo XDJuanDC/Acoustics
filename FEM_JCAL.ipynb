{
 "cells": [
  {
   "cell_type": "markdown",
   "metadata": {},
   "source": [
    "# Acoustic Absorption calculation using the Finite Element Method and JCAL Model\n",
    "\n",
    "This notebook explains how to use the **Finite Element Method (FEM)** together with the **Johnson-Champoux-Allard-Lafarge (JCAL)** model to calculate the **acoustic absorption** of a porous material (wool) covered with and without a thin plate (foil) backed by a rigid wall.\n",
    "The thin plate is considered as a membrane, with tension and mass. It's a 3D model.\n",
    "\n",
    "---\n",
    "\n",
    "## 1. Download NGsolve and Import Libraries\n",
    "\n",
    "The FEM is implemented with the open source library NGsolve"
   ]
  },
  {
   "cell_type": "code",
   "execution_count": null,
   "metadata": {},
   "outputs": [],
   "source": [
    "try:\n",
    "    import ngsolve\n",
    "except ImportError:\n",
    "    !wget \"https://fem-on-colab.github.io/releases/ngsolve-install-release-complex.sh\" -O \"/tmp/ngsolve-install.sh\" && bash \"/tmp/ngsolve-install.sh\""
   ]
  },
  {
   "cell_type": "code",
   "execution_count": 59,
   "metadata": {},
   "outputs": [],
   "source": [
    "### Libraries \n",
    "from ngsolve import *\n",
    "from ngsolve.webgui import Draw\n",
    "from netgen.occ import *\n",
    "from netgen.geom2d import SplineGeometry\n",
    "\n",
    "import numpy as np\n",
    "import matplotlib.pyplot as plt"
   ]
  },
  {
   "cell_type": "markdown",
   "metadata": {},
   "source": [
    "---\n",
    "\n",
    "## 2. Define JCAL Model Functions\n",
    "\n",
    "These functions define the **effective dynamic density** and **effective bulk modulus** of the porous medium according to the **JCAL model**. It uses $e^{-i\\omega t}$ convention. The equations have been obtained from [https://doi.org/10.1121/1.415222].\n",
    "\n",
    "Additionally, the coefficients of the plate are also settled."
   ]
  },
  {
   "cell_type": "code",
   "execution_count": 60,
   "metadata": {},
   "outputs": [],
   "source": [
    "# Dynamic density\n",
    "def rho_eff(omega, rho0, phi, alpha_inf, sigma, eta, Lambda):\n",
    "    term = 1 - (4j*alpha_inf**2 * eta * rho0 * omega) / (sigma*Lambda*phi)**2\n",
    "    return alpha_inf * (rho0 - sigma*phi/(1j*omega*alpha_inf) * np.sqrt(term))\n",
    "\n",
    "# Dynamic Bulk modulus\n",
    "def K_eff(gamma, P0, phi, eta, Cp, rho0, omega, kappa, Lambda_prime, NPr):\n",
    "    term = 1 - 8*eta/(1j*Lambda_prime**2*NPr*omega*rho0) * np.sqrt(1 - 1j*rho0*omega*NPr*Lambda_prime/16/eta)\n",
    "    return  gamma * P0 / (gamma - (gamma - 1) / term)\n",
    "\n",
    "def properties(omega):\n",
    "    # Air properties (fluid)\n",
    "    rhoF  = 1.202 # [Kg/m**3]\n",
    "    gamma = 1.35 # Heat capacity ratio []\n",
    "    Cp    = 1006.    # Specific heat capacity [J/(kg*K)] \n",
    "    P0    = 101325.  # Pressure [Pa]\n",
    "    mu    = 1.813e-5  # Dynamic viscosity [Pa s]\n",
    "    kappa = 25e-3 # Coefficient of thermal conduction [W/(m*K)] # Thermal conductivity\n",
    "    # Wave propagation coefficients in the fluid\n",
    "    NPr   = Cp * mu / kappa # Prandtl number\n",
    "    KF    = gamma * P0 \n",
    "    kF    = omega * np.sqrt(rhoF/KF)# Wave number in air\n",
    "    cF    = omega/kF\n",
    "    \n",
    "    # Porous material properties\n",
    "    sigma        = 35160 # Airflow resistivity  [Pa*s/m2] [N*s/m4]\n",
    "    phi          = 0.951 # Porosity []\n",
    "    alpha_inf    = 1.02 # Tortuosity []\n",
    "    Lambda       = 48.7e-6 # Viscous characteristic length [m]\n",
    "    Lambda_prime = 121.3e-6 # Thermal characteristic length [m]\n",
    "    # Wave propagation coefficients in the porous material\n",
    "    rhoP  = rho_eff(omega, rhoF, phi, alpha_inf, sigma, mu, Lambda)\n",
    "    KP    = K_eff(gamma, P0, phi, mu, Cp, rhoF, omega, kappa, Lambda_prime, NPr)\n",
    "    kP    = omega * np.sqrt(rhoP/KP)# Wave number in Porous\n",
    "    cP = omega/kP\n",
    "    \n",
    "    # Plate properties\n",
    "    rhoPlate =  2800.*18e-6 + 20e-3 # Surface density [Kg/m**2]\n",
    "    sPlate   = 0 # Damping coefficient\n",
    "    rPlate   = 0 # Elastic coefficient\n",
    "    tauPlate = 0 # N/m # Membrane tension\n",
    "    \n",
    "    return kF, kP, rhoF, rhoP, KF, KP, rhoPlate, sPlate, rPlate, tauPlate"
   ]
  },
  {
   "cell_type": "markdown",
   "metadata": {},
   "source": [
    "## 3. Setting up the geometry and its boundary labelling"
   ]
  },
  {
   "cell_type": "code",
   "execution_count": 61,
   "metadata": {},
   "outputs": [
    {
     "data": {
      "application/vnd.jupyter.widget-view+json": {
       "model_id": "0c93043def194aa2a45a346c69bf59d2",
       "version_major": 2,
       "version_minor": 0
      },
      "text/plain": [
       "WebGuiWidget(layout=Layout(height='3vh', width='100%'), value={'ngsolve_version': 'Netgen x.x', 'mesh_dim': 3,…"
      ]
     },
     "metadata": {},
     "output_type": "display_data"
    },
    {
     "data": {
      "text/plain": [
       "BaseWebGuiScene"
      ]
     },
     "execution_count": 61,
     "metadata": {},
     "output_type": "execute_result"
    }
   ],
   "source": [
    "### Geometry\n",
    "L = 0.5 # Lenght of the squared pannel L x L\n",
    "R = 1*L # Radious of the air sphere\n",
    "a = 20e-3 # Thickness of the wool pannel\n",
    "T = 0.5 # Thickness of the PML\n",
    "\n",
    "sphere = Sphere((0,0,0), R)\n",
    "spherepml = Sphere((0,0,0), R+T) \n",
    "dif = Box((-2*(R+T),-2*(R+T),-2*(R+T)), (2*(R+T),2*(R+T),0))\n",
    "pmlR = spherepml - sphere - dif\n",
    "wool = Box((-L/2,-L/2,0), (L/2,L/2,a))\n",
    "air = sphere - dif - wool\n",
    "\n",
    "# Boundary conditions\n",
    "\n",
    "pmlR.mat(\"pmlR\")\n",
    "pmlR.faces.name=\"pmlOut\"\n",
    "pmlR.faces.Min(Z).name = \"floor_pml\"\n",
    "pmlR.maxh = 0.3\n",
    "\n",
    "\n",
    "air.faces.name=\"air\"\n",
    "air.faces.Max(Z).name = \"speaker\"\n",
    "air.faces.Min(Z).name = \"floor_air\"\n",
    "air.mat(\"air\")\n",
    "air.maxh  = 0.1\n",
    "\n",
    "\n",
    "wool.faces.name=\"wall_wool\"\n",
    "wool.faces.Max(Z).name = \"interface\"\n",
    "wool.faces.Min(Z).name = \"floor_wool\"\n",
    "\n",
    "wool.mat(\"wool\")\n",
    "wool.maxh = 0.05\n",
    "\n",
    "\n",
    "## Each face can be colored\n",
    "pmlR.faces.col = (0, 0, 1)\n",
    "air.faces.col = (0, 1, 0)\n",
    "wool.faces.col = (1, 0, 0)\n",
    "geo = Glue([air, wool, pmlR])\n",
    "Draw(geo, clipping={ \"x\" : 10}, height=\"3vh\", euler_angles=[-65,5,55])"
   ]
  },
  {
   "cell_type": "markdown",
   "metadata": {},
   "source": [
    "## 4. Build the mesh and plot it"
   ]
  },
  {
   "cell_type": "code",
   "execution_count": 62,
   "metadata": {},
   "outputs": [
    {
     "data": {
      "application/vnd.jupyter.widget-view+json": {
       "model_id": "bc7731e0f64c41f8a6f7f2f9ca3e7036",
       "version_major": 2,
       "version_minor": 0
      },
      "text/plain": [
       "WebGuiWidget(layout=Layout(height='3vh', width='100%'), value={'gui_settings': {'camera': {'euler_angles': [-7…"
      ]
     },
     "metadata": {},
     "output_type": "display_data"
    },
    {
     "data": {
      "text/plain": [
       "BaseWebGuiScene"
      ]
     },
     "execution_count": 62,
     "metadata": {},
     "output_type": "execute_result"
    }
   ],
   "source": [
    "geoM = OCCGeometry(geo, dim=3)\n",
    "mesh = Mesh(geoM.GenerateMesh())\n",
    "\n",
    "Draw(mesh, clipping={ \"y\" : 90}, height=\"3vh\", euler_angles=[-77,17,-32])\n"
   ]
  },
  {
   "cell_type": "markdown",
   "metadata": {},
   "source": [
    "Print names for subdomains and boundaries"
   ]
  },
  {
   "cell_type": "code",
   "execution_count": 63,
   "metadata": {},
   "outputs": [
    {
     "name": "stdout",
     "output_type": "stream",
     "text": [
      "('speaker', 'floor_air', 'wall_wool', 'wall_wool', 'wall_wool', 'wall_wool', 'interface', 'floor_wool', 'pmlOut', 'floor_pml')\n",
      "('air', 'wool', 'pmlR')\n"
     ]
    }
   ],
   "source": [
    "print(mesh.GetBoundaries())\n",
    "print(mesh.GetMaterials())"
   ]
  },
  {
   "cell_type": "markdown",
   "metadata": {},
   "source": [
    "## 5. Initialization of the parameters of the variational formulation \n",
    "(only real values can be stored in a Parameter object in NGSolve)"
   ]
  },
  {
   "cell_type": "code",
   "execution_count": 64,
   "metadata": {},
   "outputs": [],
   "source": [
    "omega = 100.0*2.0*np.pi # initial frequency [rad/s]\n",
    "\n",
    "# Properties\n",
    "kF, kA, rhoF, rhoA, KF, KA, rhoPlate, sPlate, rPlate, tauPlate = properties(omega)\n",
    "\n",
    "# Define parameters which dependes on the frequency\n",
    "omega2 = Parameter(omega**2) # Frequency squared\n",
    "wavenumber_F = Parameter(kF) # Wavenumber of air\n",
    "bulk_modulus_F = Parameter(KF) # Bulk modulus of air\n",
    "bulk_modulus_A_real = Parameter(KA.real)  # Bulk modulus of wool, real. part\n",
    "bulk_modulus_A_imag = Parameter(KA.imag) # Bulk modulus of wool, imag. part\n",
    "mass_F = Parameter(omega**2*rhoF) # Inertia coefficient of air\n",
    "mass_A_real = Parameter(omega**2*rhoA.real) # Inertia coefficient of wool, real. part\n",
    "mass_A_imag = Parameter(omega**2*rhoA.imag) # Inertia coefficient of wool, imag. part\n",
    "mass_Plate = Parameter(omega**2*rhoPlate) # Inertia coefficient of plate\n",
    "damping_Plate = Parameter(omega*sPlate) # Damping coefficient of plate\n",
    "elastic_Plate = Parameter(rPlate) # Elastic coefficient of plate\n",
    "rho_A_real = Parameter(rhoA.real)# density of wool, real part\n",
    "rho_A_imag = Parameter(rhoA.imag)# density of wool, imag part\n",
    "wavenumber_A_real = Parameter(kA.real)  # wavenumber of wool, real. part\n",
    "wavenumber_A_imag = Parameter(kA.imag)  # wavenumber of wool, imag. part"
   ]
  },
  {
   "cell_type": "markdown",
   "metadata": {},
   "source": [
    "## 6. PML definition "
   ]
  },
  {
   "cell_type": "code",
   "execution_count": 65,
   "metadata": {},
   "outputs": [],
   "source": [
    "mesh.SetPML(pml.Radial(rad=R, alpha=20j/kF, origin=(0,0,0)), \"pmlR\") "
   ]
  },
  {
   "cell_type": "markdown",
   "metadata": {},
   "source": [
    "## 7. Setting up the finite element discretization, the variational formulation and the incident planewave"
   ]
  },
  {
   "cell_type": "code",
   "execution_count": 66,
   "metadata": {},
   "outputs": [],
   "source": [
    "orderFE = 4 # Order of the finite element\n",
    "\n",
    "# Finite element spaces\n",
    "Vf = Compress(H1(mesh, order=orderFE, complex=True, definedon=mesh.Materials(\"air|pmlR\"),  dirichlet = \"pmlOut\")) # Pressure in the air (order=3)\n",
    "Va = Compress(H1(mesh, order=orderFE, complex=True, definedon=mesh.Materials(\"wool\"))) # Pressure in the porous (order=3)\n",
    "Vp = Compress(H1(mesh, order=orderFE, complex=True, definedon=mesh.Boundaries(\"interface\"))) # normal displacement on the plate (order-1)\n",
    "\n",
    "# FEM discrete space\n",
    "V = Vf * Va * Vp\n",
    "\n",
    "# Trial and test functions\n",
    "(pf, pa, up), (qf, qa, vp) = V.TnT()\n",
    "\n",
    "# Normal vector outward to the boundary\n",
    "normal = specialcf.normal(mesh.dim)\n",
    "# The coefficient function associated with the normals is only defined in the fluid domain to ensure that it is exterior to the fluid domain\n",
    "# order of the subdomains: ('air', 'wool', 'pmlR')\n",
    "normal_F = CoefficientFunction([normal, None, None])\n",
    "normal_F_exterior = BoundaryFromVolumeCF(normal_F)\n",
    "\n",
    "# Define the differential on the integration on the volumes\n",
    "dF = dx(mesh.Materials(\"air|pmlR\")) # fluid domain\n",
    "dA = dx(mesh.Materials(\"wool\")) # porous domain\n",
    "\n",
    "# Define the differential on the integration on the interface boundary\n",
    "dI = ds(mesh.Boundaries(\"interface\")) # interface boundary\n",
    "#dW = ds(mesh.Boundaries(\"wall\")) # wall boundary\n",
    "dW = ds(mesh.Boundaries(\"wall_wool\")) # wall boundary\n",
    "\n",
    "# Variational formulation: Bilinear form\n",
    "a_bilinear = BilinearForm(V, symmetric=False)\n",
    "# Contribution in the air\n",
    "a_bilinear += grad(pf)*grad(qf)/rhoF * dF - wavenumber_F**2/rhoF* pf*qf * dF - omega2*up*qf * dI\n",
    "# Contribution in the porous material\n",
    "a_bilinear += grad(pa)*grad(qa)/(rho_A_real+1j*rho_A_imag) * dA - (wavenumber_A_real+1j*wavenumber_A_imag)**2/(rho_A_real+1j*rho_A_imag) * pa*qa * dA + omega2*up*qa * dI\n",
    "# Contribution in the plate (membrane + mass + jump on the pressure field)\n",
    "a_bilinear += tauPlate*(grad(up).Trace()*grad(vp).Trace())*dI - (- mass_Plate - 1j*damping_Plate + elastic_Plate)*(up*vp)*dI - (pa - pf)*vp*dI\n",
    "\n",
    "# Incident plane wave and null vector\n",
    "u_inc = CF((0., 0., 0.)) # Incident displacement vector to the plate interface in the fluid domain\n",
    "u_diffuse = CF((0., 0., 0.)) # Diffuse displacement vector to the plate interface in the fluid domain\n",
    "p_inc = CF(0.) # Incident Pressure field in the fluid domain\n",
    "p_diffuse = CF(0.) # Diffuse Pressure field in the fluid domain\n",
    "\n",
    "# Generation of the diffuse field with N randomplane waves which satisfies the rigid boundary condition at z=0\n",
    "np.random.seed(123) # Fix the seed for reproducibility\n",
    "N = 100 # Number of random plane waves\n",
    "for k in range(0,N):\n",
    "    # Random values for the wavenumber vector kvec\n",
    "    theta = np.random.rand()*np.pi*2 - np.pi # Polar angle in the plane XY in [-pi, pi)\n",
    "    phi   = np.random.rand()*np.pi/2 # Azimuthal angle with respect to the Z axis in [0,pi/2)\n",
    "    shift = np.random.rand()*np.pi*2 # Phase shift of the complex argument in [0,2*pi)\n",
    "    A_dot_xy   = cos(theta)*sin(phi)*x+sin(theta)*sin(phi)*y # Dot product of the unit amplitude vector with the position vector in the xy plane\n",
    "    A_dot_xyz  = cos(theta)*sin(phi)*x+sin(theta)*sin(phi)*y+cos(phi)*z # Dot product of the unit amplitude vector with the position vector in the xyz space\n",
    "    p_inc +=     2.*exp(-1j*wavenumber_F*A_dot_xy+ 1j*shift)*cos(wavenumber_F*cos(phi)*z) # Incident pressure field in the fluid domain\n",
    "    p_diffuse +=    exp(-1j*wavenumber_F*A_dot_xyz  + 1j*shift) # Diffuse pressure field in the fluid domain\n",
    "    \n",
    "    # Incident displacement field in the fluid domain\n",
    "    u_inc     += -2*wavenumber_F/mass_F * (1j*cos(theta)*sin(phi)*exp(-1j*wavenumber_F*A_dot_xy+ 1j*shift)*cos(wavenumber_F*cos(phi)*z), \n",
    "                                           1j*sin(theta)*sin(phi)*exp(-1j*wavenumber_F*A_dot_xy+ 1j*shift)*cos(wavenumber_F*cos(phi)*z),\n",
    "                                                         cos(phi)*exp(-1j*wavenumber_F*A_dot_xy+ 1j*shift)*sin(wavenumber_F*cos(phi)*z))\n",
    "    # Diffuse displacement field in the fluid domain\n",
    "    u_diffuse += -1j*wavenumber_F/mass_F * (  cos(theta)*sin(phi)*exp(-1j*wavenumber_F*A_dot_xyz+ 1j*shift),\n",
    "                                              sin(theta)*sin(phi)*exp(-1j*wavenumber_F*A_dot_xyz+ 1j*shift),\n",
    "                                                         cos(phi)*exp(-1j*wavenumber_F*A_dot_xyz+ 1j*shift))\n",
    "\n",
    "# Linear form\n",
    "f = LinearForm(V)\n",
    "# Source term in the fluid wall boundaries associated with the boundaries of the fluid domain\n",
    "f += -omega2*(u_inc*normal_F_exterior)*qf * dW ##TODO: uncommment this line in the spherical case\n",
    "# Source term on the interface boundary due to the translation of the incident pressure field p_inc\n",
    "f += -p_inc*vp*dI - omega2*(u_inc*normal_F_exterior)*qf * dI\n",
    "\n",
    "# Functional space for the displacement field\n",
    "Q = Compress(HDiv(mesh, order=orderFE, complex=True, definedon=mesh.Materials(\"air\"),  dirichlet = \"wool_wall|floor_air\"))"
   ]
  },
  {
   "cell_type": "markdown",
   "metadata": {},
   "source": [
    "## 8. Loop in frequency to compute the FRF (Frequency Response Function) of the absorption coefficient "
   ]
  },
  {
   "cell_type": "code",
   "execution_count": 67,
   "metadata": {},
   "outputs": [
    {
     "name": "stdout",
     "output_type": "stream",
     "text": [
      "Frequency: 200.0: Incident power = 0.001638024328718415, Reflected power = 0.0016534269042856695, Absorption coefficient = -0.009403142125065767\n",
      "TMM: Frequency: 200.0: Absorption coefficient = 0.02319533194342771\n",
      "Frequency: 328.5714285714286: Incident power = 0.004216546406767562, Reflected power = 0.0044552000125382555, Absorption coefficient = -0.05659930728798668\n",
      "TMM: Frequency: 328.5714285714286: Absorption coefficient = 0.06513459877364203\n",
      "Frequency: 457.14285714285717: Incident power = 0.006936747508011214, Reflected power = 0.007100694133222712, Absorption coefficient = -0.02363450954819335\n",
      "TMM: Frequency: 457.14285714285717: Absorption coefficient = 0.13365990335264344\n",
      "Frequency: 585.7142857142857: Incident power = 0.009341856913021716, Reflected power = 0.007863936717145107, Absorption coefficient = 0.1582041139825766\n",
      "TMM: Frequency: 585.7142857142857: Absorption coefficient = 0.23506039055888817\n",
      "Frequency: 714.2857142857142: Incident power = 0.011308086764380961, Reflected power = 0.006182620907972009, Absorption coefficient = 0.4532566793308944\n",
      "TMM: Frequency: 714.2857142857142: Absorption coefficient = 0.37363553907936997\n",
      "Frequency: 842.8571428571428: Incident power = 0.012878609604743614, Reflected power = 0.0036370465671392315, Absorption coefficient = 0.7175901220113398\n",
      "TMM: Frequency: 842.8571428571428: Absorption coefficient = 0.5440609570574588\n",
      "Frequency: 971.4285714285714: Incident power = 0.014118728102837552, Reflected power = 0.0007364768693518263, Absorption coefficient = 0.9478368827568957\n",
      "TMM: Frequency: 971.4285714285714: Absorption coefficient = 0.7215173529216669\n",
      "Frequency: 1100.0: Incident power = 0.015096934257778067, Reflected power = -0.001343142922528691, Absorption coefficient = 0.9110320744864678\n",
      "TMM: Frequency: 1100.0: Absorption coefficient = 0.862493782893966\n",
      "Frequency: 1228.5714285714287: Incident power = 0.015896665531987073, Reflected power = -0.0022049007962958245, Absorption coefficient = 0.8612979060382726\n",
      "TMM: Frequency: 1228.5714285714287: Absorption coefficient = 0.9292015270271891\n",
      "Frequency: 1357.1428571428569: Incident power = 0.016568001362417643, Reflected power = -0.0018386221721600055, Absorption coefficient = 0.8890257109508284\n",
      "TMM: Frequency: 1357.1428571428569: Absorption coefficient = 0.9172408426500006\n",
      "Frequency: 1485.7142857142858: Incident power = 0.017071533031000622, Reflected power = -0.0006221695555011203, Absorption coefficient = 0.9635551444400859\n",
      "TMM: Frequency: 1485.7142857142858: Absorption coefficient = 0.8519911280601564\n",
      "Frequency: 1614.285714285714: Incident power = 0.0173112199387817, Reflected power = 0.0009854575333373757, Absorption coefficient = 0.9430740562004131\n",
      "TMM: Frequency: 1614.285714285714: Absorption coefficient = 0.7641105283351044\n",
      "Frequency: 1742.8571428571427: Incident power = 0.01724468912183846, Reflected power = 0.002435569659443078, Absorption coefficient = 0.8587640726814435\n",
      "TMM: Frequency: 1742.8571428571427: Absorption coefficient = 0.6743796893303706\n",
      "Frequency: 1871.428571428571: Incident power = 0.0169621945396882, Reflected power = 0.003365963540197535, Absorption coefficient = 0.8015608456605162\n",
      "TMM: Frequency: 1871.428571428571: Absorption coefficient = 0.5927272934554929\n",
      "Frequency: 1999.9999999999998: Incident power = 0.016659584180050806, Reflected power = 0.004062560934981234, Absorption coefficient = 0.7561427169445207\n",
      "TMM: Frequency: 1999.9999999999998: Absorption coefficient = 0.5223032214697625\n"
     ]
    }
   ],
   "source": [
    "# Frequency data\n",
    "NFreq   = 15   # frequency samples\n",
    "MinFreq = 200  # Min frequency [Hz]\n",
    "MaxFreq = 2000 # Max frequency [Hz]\n",
    "omega_vec = np.linspace(MinFreq*2*np.pi, MaxFreq*2*np.pi, NFreq) # Angular frequency [rad/s]\n",
    "\n",
    "# Allocate memory for the results\n",
    "alpha_vec = np.zeros(NFreq)\n",
    "alphaTMM_vec = np.zeros(NFreq)\n",
    "Z_vec = np.zeros(NFreq, dtype=complex)\n",
    "ZTMM_vec = np.zeros(NFreq, dtype=complex)\n",
    "tau_vec = np.zeros(NFreq)\n",
    "reflection_vec = np.zeros(NFreq, dtype=complex)\n",
    "reflectionTMM_vec = np.zeros(NFreq, dtype=complex)\n",
    "\n",
    "# Loop over the frequencies\n",
    "for i, omega in enumerate(omega_vec):\n",
    "\n",
    "    # Properties\n",
    "    kF, kA, rhoF, rhoA, KF, KA, rhoPlate, sPlate, rPlate, tauPlate = properties(omega)\n",
    "\n",
    "    # Define parameters which dependes on the frequency\n",
    "    omega2.Set(omega**2) # Frequency squared\n",
    "    wavenumber_F.Set(kF) # Wavenumber of air\n",
    "    bulk_modulus_F.Set(KF) # Bulk modulus of air\n",
    "    bulk_modulus_A_real.Set(KA.real)  # Bulk modulus of wool, real. part\n",
    "    bulk_modulus_A_imag.Set(KA.imag) # Bulk modulus of wool, imag. part\n",
    "    mass_F.Set(omega**2*rhoF) # Inertia coefficient of air\n",
    "    mass_A_real.Set(omega**2*rhoA.real) # Inertia coefficient of wool, real. part\n",
    "    mass_A_imag.Set(omega**2*rhoA.imag) # Inertia coefficient of wool, imag. part\n",
    "    mass_Plate.Set(omega**2*rhoPlate) # Inertia coefficient of plate\n",
    "    damping_Plate.Set(omega*sPlate) # Damping coefficient of plate\n",
    "    elastic_Plate.Set(rPlate) # Elastic coefficient of plate\n",
    "    rho_A_real.Set(rhoA.real) # density of wool, real part\n",
    "    rho_A_imag.Set(rhoA.imag) # density of wool, imag part\n",
    "    wavenumber_A_real.Set(kA.real)  # wavenumber of wool, real. part\n",
    "    wavenumber_A_imag.Set(kA.imag)  # wavenumber of wool, imag. part\n",
    "\n",
    "    # Update the PML coefficients depending on the fluid wavenumber\n",
    "    mesh.SetPML(pml.Radial(rad=R, alpha=20j/kF, origin=(0,0,0)), \"pmlR\") \n",
    "    V.Update() # Update the discrete space\n",
    "\n",
    "    # Assembly the FEM matrices and the right-hand side\n",
    "    a_bilinear.Assemble()\n",
    "    f.Assemble()\n",
    "\n",
    "    # Allocate the solution vector\n",
    "    gfu = GridFunction(V)\n",
    "\n",
    "    # Solve the linear system\n",
    "    c = Preconditioner(a_bilinear,\"direct\") # sparse direct solver (UMFPACK) ## bddc más rápido\n",
    "    solvers.BVP(bf=a_bilinear, lf=f, gf=gfu, pre=c, print=False)\n",
    "\n",
    "    # Get the scattered fields\n",
    "    pf, pa, up = gfu.components\n",
    "\n",
    "    # Computing incident and reflected effective acoustic power (exterior normal vector to the fluid domain on the interface = -e_z)\n",
    "    # Incident field including the reflections from the rigid floor\n",
    "    pfI = GridFunction(Vf)\n",
    "    pfI.Set(p_inc, definedon=mesh.Materials(\"air\")) # Incident pressure field in the fluid domain\n",
    "\n",
    "    # Incident diffuse field without including the reflections from the rigid floor\n",
    "    pfD = GridFunction(Vf)\n",
    "    pfD.Set(p_diffuse, definedon=mesh.Materials(\"air\"))\n",
    "\n",
    "    # Incident displacement field including the reflections from the rigid floor\n",
    "    upD = GridFunction(Q)\n",
    "    upD.Set(u_diffuse, definedon=mesh.Materials(\"air\"))\n",
    "\n",
    "    # Computation of the effective acoustic power only on the interface\n",
    "    Power_inc = omega*0.5*np.imag(Integrate(InnerProduct(pfD, -upD*normal_F_exterior), mesh.Boundaries(\"interface\"))) # Incoming incident effective acoustic power \n",
    "    Power_ref = omega*0.5*np.imag(Integrate(InnerProduct(pf+pfI-pfD, up-upD*normal_F_exterior), mesh.Boundaries(\"interface\"))) # Outgoing reflected effective acoustic power \n",
    "    \n",
    "    # Absorption coefficient\n",
    "    reflection_vec[i] = Power_ref/Power_inc # Reflection coefficient in terms of power = |P_ref|^2/|P_inc|^2 in terms of pressure or displacement computations\n",
    "    alpha_vec[i] = 1 - np.abs(reflection_vec[i])\n",
    "    print(f\"Frequency: {omega/2/np.pi}: Incident power = {Power_inc}, Reflected power = {Power_ref}, Absorption coefficient = {alpha_vec[i]}\")\n",
    "    \n",
    "    # Computation with the TMM method: the origin of coordinates is located on the rigid floor (z=0) and the plate is located at z=a\n",
    "    # The computed amplitudes correspond to the pressure field\n",
    "    ZPlate=(-rhoPlate*omega**2 - 1j*omega*sPlate + rPlate)\n",
    "    A =  np.array([[1, 0, 0, 0],\n",
    "                   [-1j*kF/omega**2/rhoF*np.exp(-1j*kF*a), 1j*kF/omega**2/rhoF*np.exp(1j*kF*a), 1j*kA/omega**2/rhoA*np.exp(-1j*kA*a), -1j*kA/omega**2/rhoA*np.exp(1j*kA*a)],\n",
    "                   [(1 + ZPlate*(-1j*kF)/(omega**2*rhoF))*np.exp(-1j*kF*a), (1 + ZPlate*(1j*kF)/(omega**2*rhoF))*np.exp(1j*kF*a), -np.exp(-1j*kA*a) , -np.exp(1j*kA*a)],\n",
    "                   [0, 0, -1j*kA/omega**2/rhoA, 1j*kA/omega**2/rhoA]\n",
    "                   ])\n",
    "    \n",
    "    c = np.array([exp(1j*shift),0.,0.,0.]) \n",
    "    b = np.linalg.solve(A, c) \n",
    "    # Absorption coefficient\n",
    "    alphaTMM_vec[i] = 1 - (np.abs(b[1]/b[0])) ** 2\n",
    "    print(f\"TMM: Frequency: {omega/2/np.pi}: Absorption coefficient = {alphaTMM_vec[i]}\")\n",
    "    # Reflection coefficient\n",
    "    reflectionTMM_vec[i] = b[1]\n",
    "    # Surface impedance\n",
    "    ZTMM_vec[i] = (b[0] + b[1]) / (b[0] - b[1]) * np.sqrt(rhoF*KF)"
   ]
  },
  {
   "cell_type": "markdown",
   "metadata": {},
   "source": [
    "## 9. Plot the diffusive incident field in the fluid domain"
   ]
  },
  {
   "cell_type": "code",
   "execution_count": 68,
   "metadata": {},
   "outputs": [
    {
     "data": {
      "application/vnd.jupyter.widget-view+json": {
       "model_id": "97d23a439b5c4e79ab53b7500125776f",
       "version_major": 2,
       "version_minor": 0
      },
      "text/plain": [
       "WebGuiWidget(layout=Layout(height='3vh', width='100%'), value={'gui_settings': {'Complex': {'phase': 0.0, 'spe…"
      ]
     },
     "metadata": {},
     "output_type": "display_data"
    }
   ],
   "source": [
    "clipping = { \"function\" : True,  \"pnt\" : (0.,0.,0.), \"vec\" : (1,0,0) }\n",
    "scene = Draw(pfI, mesh, height=\"3vh\", animate_complex=True, clipping=clipping, euler_angles=[-65,5,55])"
   ]
  },
  {
   "cell_type": "markdown",
   "metadata": {},
   "source": [
    "## 10. Plot the reflected pressure field in the fluid domain"
   ]
  },
  {
   "cell_type": "code",
   "execution_count": 69,
   "metadata": {},
   "outputs": [
    {
     "data": {
      "application/vnd.jupyter.widget-view+json": {
       "model_id": "6d191d7787fc41dbb55148e64bd7610f",
       "version_major": 2,
       "version_minor": 0
      },
      "text/plain": [
       "WebGuiWidget(layout=Layout(height='3vh', width='100%'), value={'gui_settings': {'Complex': {'phase': 0.0, 'spe…"
      ]
     },
     "metadata": {},
     "output_type": "display_data"
    }
   ],
   "source": [
    "clipping = { \"function\" : True,  \"pnt\" : (0.,0.,0.), \"vec\" : (1,0,0) }\n",
    "scene = Draw(pf, mesh, height=\"3vh\", animate_complex=True, clipping=clipping, euler_angles=[-65,5,55])"
   ]
  },
  {
   "cell_type": "markdown",
   "metadata": {},
   "source": [
    "## 11. Plot the absorption coefficient"
   ]
  },
  {
   "cell_type": "code",
   "execution_count": 70,
   "metadata": {},
   "outputs": [
    {
     "data": {
      "image/png": "[encoded data removed]",
      "text/plain": [
       "<Figure size 640x480 with 1 Axes>"
      ]
     },
     "metadata": {},
     "output_type": "display_data"
    }
   ],
   "source": [
    "size = 17\n",
    "freq_vec=omega_vec/2/np.pi\n",
    "plt.plot(freq_vec, alpha_vec, label = \"FEM\")\n",
    "plt.plot(freq_vec, alphaTMM_vec, '--+', label = \"TMM\")\n",
    "plt.xlabel(\"Frequency [Hz]\", fontsize=size)\n",
    "plt.ylabel(r\"Absorption coefficient $\\alpha$\", fontsize=size)\n",
    "#plt.ylim(0., 1.0)\n",
    "#plt.xscale(\"log\")\n",
    "plt.tick_params(axis='both', labelsize=size)\n",
    "plt.xlim(freq_vec[0], freq_vec[-1])\n",
    "plt.grid()\n",
    "plt.legend(fontsize=size)\n",
    "plt.show()"
   ]
  },
  {
   "cell_type": "markdown",
   "metadata": {},
   "source": [
    "## 12. Plot the reflection coefficient"
   ]
  },
  {
   "cell_type": "code",
   "execution_count": 71,
   "metadata": {},
   "outputs": [
    {
     "data": {
      "image/png": "[encoded data removed]",
      "text/plain": [
       "<Figure size 640x480 with 1 Axes>"
      ]
     },
     "metadata": {},
     "output_type": "display_data"
    }
   ],
   "source": [
    "plt.plot(freq_vec, np.abs(reflection_vec),  label = \"FEM\")\n",
    "plt.plot(freq_vec, np.abs(reflectionTMM_vec)**2, '--+', label = \"TMM\")\n",
    "plt.xlabel(\"Frequency [Hz]\")\n",
    "plt.ylabel(\"Reflection coefficient (power)\")\n",
    "plt.ylim(0, 1.)\n",
    "plt.xlim(freq_vec[0], freq_vec[-1])\n",
    "plt.grid()\n",
    "plt.legend()\n",
    "plt.show()\n"
   ]
  }
 ],
 "metadata": {
  "kernelspec": {
   "display_name": "ngsolve_env",
   "language": "python",
   "name": "python3"
  },
  "language_info": {
   "codemirror_mode": {
    "name": "ipython",
    "version": 3
   },
   "file_extension": ".py",
   "mimetype": "text/x-python",
   "name": "python",
   "nbconvert_exporter": "python",
   "pygments_lexer": "ipython3",
   "version": "3.9.21"
  }
 },
 "nbformat": 4,
 "nbformat_minor": 2
}
